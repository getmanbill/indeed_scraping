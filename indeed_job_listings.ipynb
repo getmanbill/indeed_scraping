{
 "cells": [
  {
   "cell_type": "markdown",
   "metadata": {},
   "source": [
    "# Indeed Job Postings\n",
    "\n",
    "## Requirements:\n",
    "- Pull job postings by specific town\n",
    " - Scrape job listings from specific search results\n",
    " - Iterate through all results for a town\n",
    " - Loop through specific towns\n",
    " - Combine results into single df, and save\n",
    "- "
   ]
  },
  {
   "cell_type": "code",
   "execution_count": 283,
   "metadata": {},
   "outputs": [
    {
     "data": {
      "text/plain": [
       "Timestamp('2020-04-21 10:16:09.153900')"
      ]
     },
     "execution_count": 283,
     "metadata": {},
     "output_type": "execute_result"
    }
   ],
   "source": [
    "import requests\n",
    "from bs4 import BeautifulSoup\n",
    "import pandas as pd\n",
    "import numpy as np\n",
    "import ipywidgets as widgets\n",
    "from IPython.display import display\n",
    "import datetime as dt\n",
    "import os\n",
    "start_time = dt.datetime.now()\n",
    "\n",
    "# Create the Timestamp object \n",
    "ts = pd.Timestamp(year = 2011,  month = 11, day = 21, hour = 10, second = 49, tz = 'US/Central')  \n",
    "today = ts.today()\n",
    "today"
   ]
  },
  {
   "cell_type": "markdown",
   "metadata": {},
   "source": [
    "## Job Listings Function\n",
    "\n",
    "Scrapes specific job listings off an Indeed search results page.\n"
   ]
  },
  {
   "cell_type": "code",
   "execution_count": 284,
   "metadata": {},
   "outputs": [],
   "source": [
    "def job_listings(town, start, df):\n",
    "    new_url = 'https://www.indeed.com/jobs?l={},+MA&radius=0&sort=date&sr=directhire&start={}'.format(town,start)\n",
    "    today = pd.to_datetime('today')\n",
    "    #dupes = dupes\n",
    "    new_start = start\n",
    "    page = requests.get(new_url)\n",
    "    html = BeautifulSoup(page.text, 'html.parser')\n",
    "    #html.find('td', attrs={'id': 'resultsCol'})\n",
    "    #html.find('div',attrs={'class','jobsearch-SerpJobCard'})\n",
    "    results = html.find_all('div',attrs={'class','jobsearch-SerpJobCard'})\n",
    "    \n",
    "    job_already = 0\n",
    "    new_jobs = 0\n",
    "    \n",
    "    for item in results:\n",
    "        title = str(item.find('a',attrs={'class','jobtitle'}).contents)[4:-2]\n",
    "        job_id = item['id']\n",
    "        if job_id in df.index:\n",
    "            job_already += 1\n",
    "        else:\n",
    "            new_jobs +=1\n",
    "            try:\n",
    "                company = str(item.find('span',attrs={'class','company'}).a.contents)[4:-2]\n",
    "                company_rating = float(item.find('span',attrs={'class','ratingsContent'}).contents[0].strip())\n",
    "                company_link = item.find('span',attrs={'class','company'}).a['href']\n",
    "            except:\n",
    "                try:\n",
    "                    company = str(item.find('span',attrs={'class','company'}).contents)[4:-2]\n",
    "                except:\n",
    "                    company = None\n",
    "                company_rating = None\n",
    "                company_link = None\n",
    "            df.loc[job_id,['title','company','company_link','company_rating', 'town', 'orig_date']] = [title, company,company_link,company_rating, town, today]\n",
    "    if job_already == len(results):\n",
    "        new_start += job_already\n",
    "        return new_start, df\n",
    "    else:\n",
    "        new_start = len(df)\n",
    "        return new_start, df"
   ]
  },
  {
   "cell_type": "markdown",
   "metadata": {},
   "source": [
    "## Town Results function\n",
    "\n",
    "Loops through pages returned for a specific town, then uses the Job listings func to return job posting results."
   ]
  },
  {
   "cell_type": "code",
   "execution_count": 285,
   "metadata": {},
   "outputs": [],
   "source": [
    "def town_results(town):\n",
    "    df = pd.DataFrame(columns=['title','company','company_link','company_rating','town','orig_date'])\n",
    "    url = \"https://www.indeed.com/jobs?as_and=&as_phr=&as_any=&as_not=&as_ttl=&as_cmp=&jt=all&st=&sr=directhire&as_src=&salary=&radius=0&l={}%2C+MA&fromage=any&limit=10&sort=date&psf=advsrch&from=advancedsearch\".format(town)\n",
    "    page = requests.get(url)\n",
    "    html = BeautifulSoup(page.text, 'html.parser')\n",
    "        \n",
    "    num_results = str(html.find('div', attrs={'id': 'searchCountPages'}).contents)\n",
    "    results = int(num_results[num_results.find('of ')+3:num_results.find(' jobs')].replace(',',''))\n",
    "    \n",
    "    f = widgets.IntProgress(\n",
    "        value=len(df),\n",
    "        min=0,\n",
    "        max=results,\n",
    "        description='{}:'.format(town),\n",
    "        bar_style='info',\n",
    "        orientation='horizontal'\n",
    "    )\n",
    "\n",
    "    int_prog = widgets.HTML(\n",
    "        value=\"{} out of {}\".format(len(df),results)\n",
    "    )\n",
    "    \n",
    "    display(f)\n",
    "    display(int_prog)\n",
    "    \n",
    "    start = len(df)\n",
    "    while start < results:\n",
    "        start, df = job_listings(town, start, df)\n",
    "        f.value = len(df)\n",
    "        int_prog.value = \"{} out of {}\".format(len(df),results)\n",
    "    return df"
   ]
  },
  {
   "cell_type": "markdown",
   "metadata": {},
   "source": [
    "## Town Loop\n",
    "\n",
    "Loops through target towns, then combines results into a single dataframe\n"
   ]
  },
  {
   "cell_type": "code",
   "execution_count": 286,
   "metadata": {},
   "outputs": [
    {
     "data": {
      "application/vnd.jupyter.widget-view+json": {
       "model_id": "ec729da64948423f90f81a85d2305ec7",
       "version_major": 2,
       "version_minor": 0
      },
      "text/plain": [
       "IntProgress(value=0, bar_style='info', description='Framingham:', max=1134)"
      ]
     },
     "metadata": {},
     "output_type": "display_data"
    },
    {
     "data": {
      "application/vnd.jupyter.widget-view+json": {
       "model_id": "f69abc82cb8d4d33b3bca4d700aedbf9",
       "version_major": 2,
       "version_minor": 0
      },
      "text/plain": [
       "HTML(value='0 out of 1134')"
      ]
     },
     "metadata": {},
     "output_type": "display_data"
    },
    {
     "data": {
      "application/vnd.jupyter.widget-view+json": {
       "model_id": "5839ed4c92ad4668b249a7ebcd4dd3da",
       "version_major": 2,
       "version_minor": 0
      },
      "text/plain": [
       "IntProgress(value=0, bar_style='info', description='Natick:', max=579)"
      ]
     },
     "metadata": {},
     "output_type": "display_data"
    },
    {
     "data": {
      "application/vnd.jupyter.widget-view+json": {
       "model_id": "503fc2830da947cf80a15075a19aea38",
       "version_major": 2,
       "version_minor": 0
      },
      "text/plain": [
       "HTML(value='0 out of 579')"
      ]
     },
     "metadata": {},
     "output_type": "display_data"
    },
    {
     "data": {
      "application/vnd.jupyter.widget-view+json": {
       "model_id": "81e0562a4f674829a1d3c29e2798f722",
       "version_major": 2,
       "version_minor": 0
      },
      "text/plain": [
       "IntProgress(value=0, bar_style='info', description='Wayland:', max=69)"
      ]
     },
     "metadata": {},
     "output_type": "display_data"
    },
    {
     "data": {
      "application/vnd.jupyter.widget-view+json": {
       "model_id": "c2a97a69045c473faf3275a9df3571b2",
       "version_major": 2,
       "version_minor": 0
      },
      "text/plain": [
       "HTML(value='0 out of 69')"
      ]
     },
     "metadata": {},
     "output_type": "display_data"
    },
    {
     "data": {
      "application/vnd.jupyter.widget-view+json": {
       "model_id": "99ffc196af454366b8a1f9e8a0dbd049",
       "version_major": 2,
       "version_minor": 0
      },
      "text/plain": [
       "IntProgress(value=0, bar_style='info', description='Worcester:', max=2001)"
      ]
     },
     "metadata": {},
     "output_type": "display_data"
    },
    {
     "data": {
      "application/vnd.jupyter.widget-view+json": {
       "model_id": "47f81dd0cc6846e8a7af35cf64af81c0",
       "version_major": 2,
       "version_minor": 0
      },
      "text/plain": [
       "HTML(value='0 out of 2001')"
      ]
     },
     "metadata": {},
     "output_type": "display_data"
    },
    {
     "data": {
      "application/vnd.jupyter.widget-view+json": {
       "model_id": "befb36f44bcd42e087006b5dba8b94fd",
       "version_major": 2,
       "version_minor": 0
      },
      "text/plain": [
       "IntProgress(value=0, bar_style='info', description='Marlborough:', max=524)"
      ]
     },
     "metadata": {},
     "output_type": "display_data"
    },
    {
     "data": {
      "application/vnd.jupyter.widget-view+json": {
       "model_id": "aca255e00ab740cd8d8bd0cbcd9996ee",
       "version_major": 2,
       "version_minor": 0
      },
      "text/plain": [
       "HTML(value='0 out of 524')"
      ]
     },
     "metadata": {},
     "output_type": "display_data"
    },
    {
     "data": {
      "application/vnd.jupyter.widget-view+json": {
       "model_id": "567353bd5d204806ba05e80b9f2d23a8",
       "version_major": 2,
       "version_minor": 0
      },
      "text/plain": [
       "IntProgress(value=0, bar_style='info', description='Southborough:', max=133)"
      ]
     },
     "metadata": {},
     "output_type": "display_data"
    },
    {
     "data": {
      "application/vnd.jupyter.widget-view+json": {
       "model_id": "cf936cd71d46474084202f1abd8f7672",
       "version_major": 2,
       "version_minor": 0
      },
      "text/plain": [
       "HTML(value='0 out of 133')"
      ]
     },
     "metadata": {},
     "output_type": "display_data"
    },
    {
     "data": {
      "application/vnd.jupyter.widget-view+json": {
       "model_id": "a2fe586359d643ce865c47521c650064",
       "version_major": 2,
       "version_minor": 0
      },
      "text/plain": [
       "IntProgress(value=0, bar_style='info', description='Westborough:', max=546)"
      ]
     },
     "metadata": {},
     "output_type": "display_data"
    },
    {
     "data": {
      "application/vnd.jupyter.widget-view+json": {
       "model_id": "add4d75fc6ed48d2b9cd770b85e17b36",
       "version_major": 2,
       "version_minor": 0
      },
      "text/plain": [
       "HTML(value='0 out of 546')"
      ]
     },
     "metadata": {},
     "output_type": "display_data"
    },
    {
     "data": {
      "application/vnd.jupyter.widget-view+json": {
       "model_id": "d1afbbe4d10b484a8c9c61efdfb73008",
       "version_major": 2,
       "version_minor": 0
      },
      "text/plain": [
       "IntProgress(value=0, bar_style='info', description='Hopkinton:', max=144)"
      ]
     },
     "metadata": {},
     "output_type": "display_data"
    },
    {
     "data": {
      "application/vnd.jupyter.widget-view+json": {
       "model_id": "d6efc776308e4baeb7044c58d42aacfa",
       "version_major": 2,
       "version_minor": 0
      },
      "text/plain": [
       "HTML(value='0 out of 144')"
      ]
     },
     "metadata": {},
     "output_type": "display_data"
    },
    {
     "data": {
      "application/vnd.jupyter.widget-view+json": {
       "model_id": "b3f79c3a1591426a9371e58dfd91bd94",
       "version_major": 2,
       "version_minor": 0
      },
      "text/plain": [
       "IntProgress(value=0, bar_style='info', description='Wellesley:', max=304)"
      ]
     },
     "metadata": {},
     "output_type": "display_data"
    },
    {
     "data": {
      "application/vnd.jupyter.widget-view+json": {
       "model_id": "bc98099a4d3d4de9a3af65c5a3595116",
       "version_major": 2,
       "version_minor": 0
      },
      "text/plain": [
       "HTML(value='0 out of 304')"
      ]
     },
     "metadata": {},
     "output_type": "display_data"
    },
    {
     "data": {
      "application/vnd.jupyter.widget-view+json": {
       "model_id": "d1065f7fb74f46ad9c49860846cae088",
       "version_major": 2,
       "version_minor": 0
      },
      "text/plain": [
       "IntProgress(value=0, bar_style='info', description='Waltham:', max=1345)"
      ]
     },
     "metadata": {},
     "output_type": "display_data"
    },
    {
     "data": {
      "application/vnd.jupyter.widget-view+json": {
       "model_id": "cd4bcc7dd08e480e8f45b4e131d832ce",
       "version_major": 2,
       "version_minor": 0
      },
      "text/plain": [
       "HTML(value='0 out of 1345')"
      ]
     },
     "metadata": {},
     "output_type": "display_data"
    },
    {
     "data": {
      "application/vnd.jupyter.widget-view+json": {
       "model_id": "faf612e561a5486880c882d216037ccc",
       "version_major": 2,
       "version_minor": 0
      },
      "text/plain": [
       "IntProgress(value=0, bar_style='info', description='Newton:', max=851)"
      ]
     },
     "metadata": {},
     "output_type": "display_data"
    },
    {
     "data": {
      "application/vnd.jupyter.widget-view+json": {
       "model_id": "7c81811c06cc43b395b33ba5c2a1f0ba",
       "version_major": 2,
       "version_minor": 0
      },
      "text/plain": [
       "HTML(value='0 out of 851')"
      ]
     },
     "metadata": {},
     "output_type": "display_data"
    },
    {
     "data": {
      "application/vnd.jupyter.widget-view+json": {
       "model_id": "f2251cc8f8094836ab2a15edfaca4cda",
       "version_major": 2,
       "version_minor": 0
      },
      "text/plain": [
       "IntProgress(value=0, bar_style='info', description='Shrewsbury:', max=316)"
      ]
     },
     "metadata": {},
     "output_type": "display_data"
    },
    {
     "data": {
      "application/vnd.jupyter.widget-view+json": {
       "model_id": "7cf4df2710fc428f84eb119963f26468",
       "version_major": 2,
       "version_minor": 0
      },
      "text/plain": [
       "HTML(value='0 out of 316')"
      ]
     },
     "metadata": {},
     "output_type": "display_data"
    },
    {
     "data": {
      "application/vnd.jupyter.widget-view+json": {
       "model_id": "8a30eb21c1554b18ab9c23402c4a7b87",
       "version_major": 2,
       "version_minor": 0
      },
      "text/plain": [
       "IntProgress(value=0, bar_style='info', description='Hudson:', max=204)"
      ]
     },
     "metadata": {},
     "output_type": "display_data"
    },
    {
     "data": {
      "application/vnd.jupyter.widget-view+json": {
       "model_id": "c80dcd4c372b427d91c051fed54b7df7",
       "version_major": 2,
       "version_minor": 0
      },
      "text/plain": [
       "HTML(value='0 out of 204')"
      ]
     },
     "metadata": {},
     "output_type": "display_data"
    },
    {
     "data": {
      "application/vnd.jupyter.widget-view+json": {
       "model_id": "871c812afcbb4cfbbcc08523212278f8",
       "version_major": 2,
       "version_minor": 0
      },
      "text/plain": [
       "IntProgress(value=0, bar_style='info', description='Needham:', max=426)"
      ]
     },
     "metadata": {},
     "output_type": "display_data"
    },
    {
     "data": {
      "application/vnd.jupyter.widget-view+json": {
       "model_id": "435d7537599d4647954fe8c4bca7c510",
       "version_major": 2,
       "version_minor": 0
      },
      "text/plain": [
       "HTML(value='0 out of 426')"
      ]
     },
     "metadata": {},
     "output_type": "display_data"
    },
    {
     "data": {
      "application/vnd.jupyter.widget-view+json": {
       "model_id": "f7ec2fe3194a4af3b2d924edf1b08e3c",
       "version_major": 2,
       "version_minor": 0
      },
      "text/plain": [
       "IntProgress(value=0, bar_style='info', description='Weston:', max=112)"
      ]
     },
     "metadata": {},
     "output_type": "display_data"
    },
    {
     "data": {
      "application/vnd.jupyter.widget-view+json": {
       "model_id": "87932c19fa434f7386afaa47fbcf7845",
       "version_major": 2,
       "version_minor": 0
      },
      "text/plain": [
       "HTML(value='0 out of 112')"
      ]
     },
     "metadata": {},
     "output_type": "display_data"
    },
    {
     "data": {
      "application/vnd.jupyter.widget-view+json": {
       "model_id": "06391efca5a5414b8012a53f06930a08",
       "version_major": 2,
       "version_minor": 0
      },
      "text/plain": [
       "IntProgress(value=0, bar_style='info', description='Sudbury:', max=92)"
      ]
     },
     "metadata": {},
     "output_type": "display_data"
    },
    {
     "data": {
      "application/vnd.jupyter.widget-view+json": {
       "model_id": "4c5f3733f3fe49948ec690dbb1ed6987",
       "version_major": 2,
       "version_minor": 0
      },
      "text/plain": [
       "HTML(value='0 out of 92')"
      ]
     },
     "metadata": {},
     "output_type": "display_data"
    },
    {
     "data": {
      "application/vnd.jupyter.widget-view+json": {
       "model_id": "c35a9057c72547778a0ebdd02b5abee0",
       "version_major": 2,
       "version_minor": 0
      },
      "text/plain": [
       "IntProgress(value=0, bar_style='info', description='Berlin:', max=34)"
      ]
     },
     "metadata": {},
     "output_type": "display_data"
    },
    {
     "data": {
      "application/vnd.jupyter.widget-view+json": {
       "model_id": "00e930297a364beba760af5566ed2cc5",
       "version_major": 2,
       "version_minor": 0
      },
      "text/plain": [
       "HTML(value='0 out of 34')"
      ]
     },
     "metadata": {},
     "output_type": "display_data"
    },
    {
     "data": {
      "application/vnd.jupyter.widget-view+json": {
       "model_id": "a882d16e71b54d8cbc7e73137f3a6a51",
       "version_major": 2,
       "version_minor": 0
      },
      "text/plain": [
       "IntProgress(value=0, bar_style='info', description='Northborough:', max=163)"
      ]
     },
     "metadata": {},
     "output_type": "display_data"
    },
    {
     "data": {
      "application/vnd.jupyter.widget-view+json": {
       "model_id": "6a04bfa717ca4731a08a6467e39da736",
       "version_major": 2,
       "version_minor": 0
      },
      "text/plain": [
       "HTML(value='0 out of 163')"
      ]
     },
     "metadata": {},
     "output_type": "display_data"
    },
    {
     "data": {
      "application/vnd.jupyter.widget-view+json": {
       "model_id": "3dbb7c98c8a64fcea56dc32420005518",
       "version_major": 2,
       "version_minor": 0
      },
      "text/plain": [
       "IntProgress(value=0, bar_style='info', description='Milford:', max=390)"
      ]
     },
     "metadata": {},
     "output_type": "display_data"
    },
    {
     "data": {
      "application/vnd.jupyter.widget-view+json": {
       "model_id": "68795005663b4127bae9e521e2b9aba1",
       "version_major": 2,
       "version_minor": 0
      },
      "text/plain": [
       "HTML(value='0 out of 390')"
      ]
     },
     "metadata": {},
     "output_type": "display_data"
    },
    {
     "data": {
      "application/vnd.jupyter.widget-view+json": {
       "model_id": "ad26efc2218d4a228ec6c0a28e1f2ae6",
       "version_major": 2,
       "version_minor": 0
      },
      "text/plain": [
       "IntProgress(value=0, bar_style='info', description='Medway:', max=63)"
      ]
     },
     "metadata": {},
     "output_type": "display_data"
    },
    {
     "data": {
      "application/vnd.jupyter.widget-view+json": {
       "model_id": "ab121288537c4c64bfa03af06a35fa83",
       "version_major": 2,
       "version_minor": 0
      },
      "text/plain": [
       "HTML(value='0 out of 63')"
      ]
     },
     "metadata": {},
     "output_type": "display_data"
    },
    {
     "data": {
      "application/vnd.jupyter.widget-view+json": {
       "model_id": "01b778d072a841f3b5e02f70356958c0",
       "version_major": 2,
       "version_minor": 0
      },
      "text/plain": [
       "IntProgress(value=0, bar_style='info', description='Milford:', max=390)"
      ]
     },
     "metadata": {},
     "output_type": "display_data"
    },
    {
     "data": {
      "application/vnd.jupyter.widget-view+json": {
       "model_id": "3f0bee59c1ec4252a0d286200ce043be",
       "version_major": 2,
       "version_minor": 0
      },
      "text/plain": [
       "HTML(value='0 out of 390')"
      ]
     },
     "metadata": {},
     "output_type": "display_data"
    },
    {
     "data": {
      "application/vnd.jupyter.widget-view+json": {
       "model_id": "d828156f9d0f4d2c976140d62f69742e",
       "version_major": 2,
       "version_minor": 0
      },
      "text/plain": [
       "IntProgress(value=0, bar_style='info', description='Millis:', max=37)"
      ]
     },
     "metadata": {},
     "output_type": "display_data"
    },
    {
     "data": {
      "application/vnd.jupyter.widget-view+json": {
       "model_id": "69185d0df29d4d62a6ae3aeb695ce64b",
       "version_major": 2,
       "version_minor": 0
      },
      "text/plain": [
       "HTML(value='0 out of 37')"
      ]
     },
     "metadata": {},
     "output_type": "display_data"
    }
   ],
   "source": [
    "towns = [\n",
    "    'Framingham',\n",
    "    'Natick',\n",
    "    'Wayland',\n",
    "    'Worcester',\n",
    "    'Marlborough',\n",
    "    'Southborough',\n",
    "    'Westborough',\n",
    "    'Hopkinton',\n",
    "    'Wellesley',\n",
    "    'Waltham',\n",
    "    'Newton',\n",
    "    'Shrewsbury',\n",
    "    'Hudson',\n",
    "    'Needham',\n",
    "    'Weston',\n",
    "    'Sudbury',\n",
    "    'Berlin',\n",
    "    'Northborough',\n",
    "    'Milford',\n",
    "    'Medway',\n",
    "    'Milford',\n",
    "    'Millis'\n",
    "]\n",
    "\n",
    "folder = os.listdir(os.getcwd() + '/listings')\n",
    "town_listings_master = []\n",
    "\n",
    "for town in towns:\n",
    "    town_listings = town_results(town)\n",
    "    town_listings_master.append(town_listings)\n",
    "    \n",
    "combined_towns = pd.concat(town_listings_master)"
   ]
  },
  {
   "cell_type": "code",
   "execution_count": 287,
   "metadata": {},
   "outputs": [
    {
     "data": {
      "text/html": [
       "<div>\n",
       "<style scoped>\n",
       "    .dataframe tbody tr th:only-of-type {\n",
       "        vertical-align: middle;\n",
       "    }\n",
       "\n",
       "    .dataframe tbody tr th {\n",
       "        vertical-align: top;\n",
       "    }\n",
       "\n",
       "    .dataframe thead th {\n",
       "        text-align: right;\n",
       "    }\n",
       "</style>\n",
       "<table border=\"1\" class=\"dataframe\">\n",
       "  <thead>\n",
       "    <tr style=\"text-align: right;\">\n",
       "      <th></th>\n",
       "      <th>title</th>\n",
       "      <th>company</th>\n",
       "      <th>company_link</th>\n",
       "      <th>company_rating</th>\n",
       "      <th>town</th>\n",
       "      <th>orig_date</th>\n",
       "    </tr>\n",
       "  </thead>\n",
       "  <tbody>\n",
       "    <tr>\n",
       "      <th>p_b0ac2e4c103f9a95</th>\n",
       "      <td>Division Manager, Community Care Program</td>\n",
       "      <td>Encompass Health</td>\n",
       "      <td>/cmp/Encompass-Health</td>\n",
       "      <td>3.5</td>\n",
       "      <td>Framingham</td>\n",
       "      <td>2020-04-21 10:16:10.308788</td>\n",
       "    </tr>\n",
       "    <tr>\n",
       "      <th>pj_b9bca235b9e699f2</th>\n",
       "      <td>Customer Service Associate - Fruit Expert</td>\n",
       "      <td>Edible Arrangements</td>\n",
       "      <td>/cmp/Edible-Arrangements</td>\n",
       "      <td>3.8</td>\n",
       "      <td>Framingham</td>\n",
       "      <td>2020-04-21 10:16:10.308788</td>\n",
       "    </tr>\n",
       "    <tr>\n",
       "      <th>pj_0ce7f8679de7329c</th>\n",
       "      <td>Temp Mother's Day Delivery Driver: No- Contact...</td>\n",
       "      <td>Edible Arrangements Framingham</td>\n",
       "      <td>/cmp/Edible-Arrangements</td>\n",
       "      <td>3.8</td>\n",
       "      <td>Framingham</td>\n",
       "      <td>2020-04-21 10:16:10.308788</td>\n",
       "    </tr>\n",
       "    <tr>\n",
       "      <th>p_2a7e8402fcb1b4b8</th>\n",
       "      <td>Accounts Payable Specialist</td>\n",
       "      <td>Rave Mobile Safety</td>\n",
       "      <td>/cmp/Rave-Mobile-Safety</td>\n",
       "      <td>3.8</td>\n",
       "      <td>Framingham</td>\n",
       "      <td>2020-04-21 10:16:10.308788</td>\n",
       "    </tr>\n",
       "    <tr>\n",
       "      <th>p_d7000f5d7fc84ab6</th>\n",
       "      <td>Project Manager</td>\n",
       "      <td>Voltech Electric</td>\n",
       "      <td>None</td>\n",
       "      <td>None</td>\n",
       "      <td>Framingham</td>\n",
       "      <td>2020-04-21 10:16:10.308788</td>\n",
       "    </tr>\n",
       "  </tbody>\n",
       "</table>\n",
       "</div>"
      ],
      "text/plain": [
       "                                                                 title  \\\n",
       "p_b0ac2e4c103f9a95            Division Manager, Community Care Program   \n",
       "pj_b9bca235b9e699f2          Customer Service Associate - Fruit Expert   \n",
       "pj_0ce7f8679de7329c  Temp Mother's Day Delivery Driver: No- Contact...   \n",
       "p_2a7e8402fcb1b4b8                         Accounts Payable Specialist   \n",
       "p_d7000f5d7fc84ab6                                     Project Manager   \n",
       "\n",
       "                                            company              company_link  \\\n",
       "p_b0ac2e4c103f9a95                 Encompass Health     /cmp/Encompass-Health   \n",
       "pj_b9bca235b9e699f2             Edible Arrangements  /cmp/Edible-Arrangements   \n",
       "pj_0ce7f8679de7329c  Edible Arrangements Framingham  /cmp/Edible-Arrangements   \n",
       "p_2a7e8402fcb1b4b8               Rave Mobile Safety   /cmp/Rave-Mobile-Safety   \n",
       "p_d7000f5d7fc84ab6                 Voltech Electric                      None   \n",
       "\n",
       "                    company_rating        town                   orig_date  \n",
       "p_b0ac2e4c103f9a95             3.5  Framingham  2020-04-21 10:16:10.308788  \n",
       "pj_b9bca235b9e699f2            3.8  Framingham  2020-04-21 10:16:10.308788  \n",
       "pj_0ce7f8679de7329c            3.8  Framingham  2020-04-21 10:16:10.308788  \n",
       "p_2a7e8402fcb1b4b8             3.8  Framingham  2020-04-21 10:16:10.308788  \n",
       "p_d7000f5d7fc84ab6            None  Framingham  2020-04-21 10:16:10.308788  "
      ]
     },
     "execution_count": 287,
     "metadata": {},
     "output_type": "execute_result"
    }
   ],
   "source": [
    "len(combined_towns)\n",
    "combined_towns.head(5)\n"
   ]
  },
  {
   "cell_type": "markdown",
   "metadata": {},
   "source": [
    "### Save the combined listings to a csv"
   ]
  },
  {
   "cell_type": "code",
   "execution_count": 288,
   "metadata": {},
   "outputs": [],
   "source": [
    "combined_towns['id_uncleaned'] = combined_towns.index\n",
    "combined_towns['id_cleaned'] = combined_towns['id_uncleaned'].apply(lambda x: x.replace('p_','').replace('pj_',''))\n",
    "file = os.getcwd() + '/listings/combined_listings_{}.csv'.format(str(today)[:10])\n",
    "combined_towns.to_csv(file)\n"
   ]
  },
  {
   "cell_type": "markdown",
   "metadata": {},
   "source": [
    "## Scrape the Descriptions for the job listings\n",
    "\n",
    "This code block scrapes the job descriptions from the job detail pages."
   ]
  },
  {
   "cell_type": "code",
   "execution_count": 289,
   "metadata": {},
   "outputs": [
    {
     "data": {
      "application/vnd.jupyter.widget-view+json": {
       "model_id": "d625b1ec56944f96987e8b3481d5fc4d",
       "version_major": 2,
       "version_minor": 0
      },
      "text/plain": [
       "IntProgress(value=0, bar_style='info', description='progress', max=8043)"
      ]
     },
     "metadata": {},
     "output_type": "display_data"
    },
    {
     "data": {
      "application/vnd.jupyter.widget-view+json": {
       "model_id": "51ff8de350fb4fb7b1c9525665a8c19b",
       "version_major": 2,
       "version_minor": 0
      },
      "text/plain": [
       "HTML(value='7648 out of 0')"
      ]
     },
     "metadata": {},
     "output_type": "display_data"
    }
   ],
   "source": [
    "f = widgets.IntProgress(\n",
    "        value=0,\n",
    "        min=0,\n",
    "        max=len(combined_towns),\n",
    "        description='progress',\n",
    "        bar_style='info',\n",
    "        orientation='horizontal'\n",
    "    )\n",
    "\n",
    "int_prog = widgets.HTML(\n",
    "        value=\"{} out of {}\".format(len(combined_with_desc),f.value)\n",
    "    )\n",
    "\n",
    "display(f)\n",
    "display(int_prog)\n",
    "\n",
    "def job_desc(id):\n",
    "    url = 'https://www.indeed.com/viewjob?jk={}'.format(id)\n",
    "    f.value += 1\n",
    "    int_prog.value = \"{} out of {}\".format(f.value, len(combined_with_desc))\n",
    "    page = requests.get(url)\n",
    "    html = BeautifulSoup(page.text, 'html.parser')\n",
    "    page_results = html.find_all('div',attrs={'class','jobsearch-jobDescriptionText'})\n",
    "    if len(page_results) > 0:\n",
    "        return page_results[0].get_text()\n",
    "    \n",
    "        \n",
    "combined_with_desc = combined_towns.copy()\n",
    "combined_with_desc['description'] = combined_with_desc['id_cleaned'].apply(job_desc)\n",
    "combined_with_desc.to_csv(file)"
   ]
  },
  {
   "cell_type": "markdown",
   "metadata": {},
   "source": [
    "## Target listings with keywords\n",
    "\n",
    "This code block flags the job listings with keywords in it"
   ]
  },
  {
   "cell_type": "code",
   "execution_count": 290,
   "metadata": {},
   "outputs": [
    {
     "name": "stdout",
     "output_type": "stream",
     "text": [
      "Salesforce done\n",
      "sql done\n",
      "python done\n",
      "analyst done\n",
      "sales_ops done\n",
      "bus_ops done\n",
      "bus_ops done\n"
     ]
    },
    {
     "data": {
      "text/plain": [
       "False    8040\n",
       "True        1\n",
       "Name: rev_operations, dtype: int64"
      ]
     },
     "execution_count": 290,
     "metadata": {},
     "output_type": "execute_result"
    }
   ],
   "source": [
    "combined_with_desc['salesforce'] = False\n",
    "combined_with_desc['sql'] = False\n",
    "combined_with_desc['python'] = False\n",
    "combined_with_desc['analyst'] = False\n",
    "combined_with_desc['sales_operations'] = False\n",
    "combined_with_desc['bus_operations'] = False\n",
    "combined_with_desc['rev_operations'] = False\n",
    "\n",
    "combined_with_desc['salesforce'] = combined_with_desc['description'].str.contains('salesforce',regex=True, case=False)\n",
    "print('Salesforce done')\n",
    "combined_with_desc['sql'] = combined_with_desc['description'].str.contains('sql',regex=True, case=False)\n",
    "print('sql done')\n",
    "combined_with_desc['python'] = combined_with_desc['description'].str.contains('python',regex=True, case=False)\n",
    "print('python done')\n",
    "combined_with_desc['analyst'] = combined_with_desc['title'].str.contains('analyst',regex=True, case=False)\n",
    "print('analyst done')\n",
    "combined_with_desc['sales_operations'] = combined_with_desc['description'].str.contains('sales operations',regex=True, case=False)\n",
    "print('sales_ops done')\n",
    "combined_with_desc['bus_operations'] = combined_with_desc['description'].str.contains('business operations',regex=True, case=False)\n",
    "print('bus_ops done')\n",
    "combined_with_desc['rev_operations'] = combined_with_desc['description'].str.contains('revenue operations',regex=True, case=False)\n",
    "print('bus_ops done')\n",
    "\n",
    "combined_with_desc['rev_operations'].value_counts()\n",
    "\n"
   ]
  },
  {
   "cell_type": "markdown",
   "metadata": {},
   "source": [
    "## Filter only targeted jobs"
   ]
  },
  {
   "cell_type": "code",
   "execution_count": 291,
   "metadata": {},
   "outputs": [
    {
     "name": "stdout",
     "output_type": "stream",
     "text": [
      "target_listings 484\n",
      "293\n"
     ]
    }
   ],
   "source": [
    "target_listings = combined_with_desc.loc[\n",
    "    (combined_with_desc['salesforce'] == True) | \n",
    "    (combined_with_desc['sql'] == True) |\n",
    "    (combined_with_desc['python'] == True) |\n",
    "    (combined_with_desc['analyst'] == True) |\n",
    "    (combined_with_desc['sales_operations'] == True) |\n",
    "    (combined_with_desc['bus_operations'] == True) |\n",
    "    (combined_with_desc['rev_operations'] == True)\n",
    "].copy()\n",
    "\n",
    "print('target_listings',len(target_listings))\n",
    "\n",
    "jobs = target_listings['title'].unique()\n",
    "\n",
    "excluded_jobs = [\n",
    "    'Account Executive',\n",
    "    'Account Manager',\n",
    "    'Intern',\n",
    "    'Business Development',\n",
    "    'Account Development',\n",
    "    'Board Certified Behavior',\n",
    "    'Sales Manager',\n",
    "    'Tax Accountant',\n",
    "    'Loan',\n",
    "    'Telemarketer',\n",
    "    'Teacher',\n",
    "    'Representative',\n",
    "    'Executive Assistant'\n",
    "    'Dental',\n",
    "    'Consultant',\n",
    "    'Thermodynamic',\n",
    "    'Lab',\n",
    "    'Tesla',\n",
    "    'Neutronics',\n",
    "    'Bi-Lingual'\n",
    "]\n",
    "\n",
    "final_target_listings = target_listings[\n",
    "    (~target_listings['title'].str.contains('|'.join(excluded_jobs))) & \n",
    "    (~target_listings['company'].str.contains('Confidential'))\n",
    "]\n",
    "\n",
    "\n",
    "final_target_listings = final_target_listings.drop(['description'], axis = 1)\n",
    "\n",
    "print(len(final_target_listings))\n"
   ]
  },
  {
   "cell_type": "markdown",
   "metadata": {},
   "source": [
    "Remove dupes"
   ]
  },
  {
   "cell_type": "code",
   "execution_count": 292,
   "metadata": {},
   "outputs": [
    {
     "data": {
      "text/html": [
       "<div>\n",
       "<style scoped>\n",
       "    .dataframe tbody tr th:only-of-type {\n",
       "        vertical-align: middle;\n",
       "    }\n",
       "\n",
       "    .dataframe tbody tr th {\n",
       "        vertical-align: top;\n",
       "    }\n",
       "\n",
       "    .dataframe thead th {\n",
       "        text-align: right;\n",
       "    }\n",
       "</style>\n",
       "<table border=\"1\" class=\"dataframe\">\n",
       "  <thead>\n",
       "    <tr style=\"text-align: right;\">\n",
       "      <th></th>\n",
       "      <th>title</th>\n",
       "      <th>company</th>\n",
       "      <th>company_link</th>\n",
       "      <th>company_rating</th>\n",
       "      <th>town</th>\n",
       "      <th>orig_date</th>\n",
       "      <th>id_uncleaned</th>\n",
       "      <th>id_cleaned</th>\n",
       "      <th>salesforce</th>\n",
       "      <th>sql</th>\n",
       "      <th>python</th>\n",
       "      <th>analyst</th>\n",
       "      <th>sales_operations</th>\n",
       "      <th>bus_operations</th>\n",
       "      <th>rev_operations</th>\n",
       "    </tr>\n",
       "  </thead>\n",
       "  <tbody>\n",
       "    <tr>\n",
       "      <th>p_f3c2e0f5a6d70294</th>\n",
       "      <td>Health Economics &amp; Outcomes Research</td>\n",
       "      <td>An-L-It-Iks Inc.</td>\n",
       "      <td>None</td>\n",
       "      <td>None</td>\n",
       "      <td>Framingham</td>\n",
       "      <td>2020-04-21 10:16:11.315318</td>\n",
       "      <td>p_f3c2e0f5a6d70294</td>\n",
       "      <td>f3c2e0f5a6d70294</td>\n",
       "      <td>False</td>\n",
       "      <td>False</td>\n",
       "      <td>True</td>\n",
       "      <td>False</td>\n",
       "      <td>False</td>\n",
       "      <td>False</td>\n",
       "      <td>False</td>\n",
       "    </tr>\n",
       "    <tr>\n",
       "      <th>p_b6d902a108815e50</th>\n",
       "      <td>LIMS Business Analyst/Admin</td>\n",
       "      <td>Sequence, Inc.</td>\n",
       "      <td>None</td>\n",
       "      <td>None</td>\n",
       "      <td>Framingham</td>\n",
       "      <td>2020-04-21 10:16:12.950321</td>\n",
       "      <td>p_b6d902a108815e50</td>\n",
       "      <td>b6d902a108815e50</td>\n",
       "      <td>False</td>\n",
       "      <td>False</td>\n",
       "      <td>False</td>\n",
       "      <td>True</td>\n",
       "      <td>False</td>\n",
       "      <td>False</td>\n",
       "      <td>False</td>\n",
       "    </tr>\n",
       "    <tr>\n",
       "      <th>p_4fe0bdf131e4866b</th>\n",
       "      <td>SG- Research Associate II -563</td>\n",
       "      <td>NewAge Clinical</td>\n",
       "      <td>/cmp/Newage-Clinical</td>\n",
       "      <td>5</td>\n",
       "      <td>Framingham</td>\n",
       "      <td>2020-04-21 10:16:20.018413</td>\n",
       "      <td>p_4fe0bdf131e4866b</td>\n",
       "      <td>4fe0bdf131e4866b</td>\n",
       "      <td>False</td>\n",
       "      <td>False</td>\n",
       "      <td>True</td>\n",
       "      <td>False</td>\n",
       "      <td>False</td>\n",
       "      <td>False</td>\n",
       "      <td>False</td>\n",
       "    </tr>\n",
       "    <tr>\n",
       "      <th>pj_5256fa8510b25b69</th>\n",
       "      <td>Inside Sales Associate</td>\n",
       "      <td>Lytx</td>\n",
       "      <td>/cmp/Lytx</td>\n",
       "      <td>3.6</td>\n",
       "      <td>Framingham</td>\n",
       "      <td>2020-04-21 10:16:29.231979</td>\n",
       "      <td>pj_5256fa8510b25b69</td>\n",
       "      <td>5256fa8510b25b69</td>\n",
       "      <td>True</td>\n",
       "      <td>False</td>\n",
       "      <td>False</td>\n",
       "      <td>False</td>\n",
       "      <td>False</td>\n",
       "      <td>False</td>\n",
       "      <td>False</td>\n",
       "    </tr>\n",
       "    <tr>\n",
       "      <th>p_aa6c74dc8b26e25a</th>\n",
       "      <td>Customer Success Technical Specialist</td>\n",
       "      <td>Globoforce, Inc.</td>\n",
       "      <td>/cmp/Workhuman</td>\n",
       "      <td>4.1</td>\n",
       "      <td>Framingham</td>\n",
       "      <td>2020-04-21 10:16:31.336435</td>\n",
       "      <td>p_aa6c74dc8b26e25a</td>\n",
       "      <td>aa6c74dc8b26e25a</td>\n",
       "      <td>True</td>\n",
       "      <td>False</td>\n",
       "      <td>False</td>\n",
       "      <td>False</td>\n",
       "      <td>False</td>\n",
       "      <td>False</td>\n",
       "      <td>False</td>\n",
       "    </tr>\n",
       "  </tbody>\n",
       "</table>\n",
       "</div>"
      ],
      "text/plain": [
       "                                                     title           company  \\\n",
       "p_f3c2e0f5a6d70294    Health Economics & Outcomes Research  An-L-It-Iks Inc.   \n",
       "p_b6d902a108815e50             LIMS Business Analyst/Admin    Sequence, Inc.   \n",
       "p_4fe0bdf131e4866b          SG- Research Associate II -563   NewAge Clinical   \n",
       "pj_5256fa8510b25b69                 Inside Sales Associate              Lytx   \n",
       "p_aa6c74dc8b26e25a   Customer Success Technical Specialist  Globoforce, Inc.   \n",
       "\n",
       "                             company_link company_rating        town  \\\n",
       "p_f3c2e0f5a6d70294                   None           None  Framingham   \n",
       "p_b6d902a108815e50                   None           None  Framingham   \n",
       "p_4fe0bdf131e4866b   /cmp/Newage-Clinical              5  Framingham   \n",
       "pj_5256fa8510b25b69             /cmp/Lytx            3.6  Framingham   \n",
       "p_aa6c74dc8b26e25a         /cmp/Workhuman            4.1  Framingham   \n",
       "\n",
       "                                      orig_date         id_uncleaned  \\\n",
       "p_f3c2e0f5a6d70294   2020-04-21 10:16:11.315318   p_f3c2e0f5a6d70294   \n",
       "p_b6d902a108815e50   2020-04-21 10:16:12.950321   p_b6d902a108815e50   \n",
       "p_4fe0bdf131e4866b   2020-04-21 10:16:20.018413   p_4fe0bdf131e4866b   \n",
       "pj_5256fa8510b25b69  2020-04-21 10:16:29.231979  pj_5256fa8510b25b69   \n",
       "p_aa6c74dc8b26e25a   2020-04-21 10:16:31.336435   p_aa6c74dc8b26e25a   \n",
       "\n",
       "                           id_cleaned salesforce    sql python  analyst  \\\n",
       "p_f3c2e0f5a6d70294   f3c2e0f5a6d70294      False  False   True    False   \n",
       "p_b6d902a108815e50   b6d902a108815e50      False  False  False     True   \n",
       "p_4fe0bdf131e4866b   4fe0bdf131e4866b      False  False   True    False   \n",
       "pj_5256fa8510b25b69  5256fa8510b25b69       True  False  False    False   \n",
       "p_aa6c74dc8b26e25a   aa6c74dc8b26e25a       True  False  False    False   \n",
       "\n",
       "                    sales_operations bus_operations rev_operations  \n",
       "p_f3c2e0f5a6d70294             False          False          False  \n",
       "p_b6d902a108815e50             False          False          False  \n",
       "p_4fe0bdf131e4866b             False          False          False  \n",
       "pj_5256fa8510b25b69            False          False          False  \n",
       "p_aa6c74dc8b26e25a             False          False          False  "
      ]
     },
     "execution_count": 292,
     "metadata": {},
     "output_type": "execute_result"
    }
   ],
   "source": [
    "final_target_listings.drop_duplicates(subset =\"id_cleaned\", \n",
    "                     keep = False, inplace = True)\n",
    "\n",
    "final_target_listings.head()"
   ]
  },
  {
   "cell_type": "markdown",
   "metadata": {},
   "source": [
    "## Score the jobs\n",
    "\n",
    "If there's a keyword present, add 1.\n",
    "\n",
    "If the company rating is over 4, add 1 -- if it's between 3-4, then add 0.5"
   ]
  },
  {
   "cell_type": "code",
   "execution_count": 293,
   "metadata": {},
   "outputs": [],
   "source": [
    "def job_score(job):\n",
    "    row = final_target_listings.loc[job]\n",
    "    #print(row)\n",
    "    final_target_listings.loc[job,'score'] = 0\n",
    "    score = 0\n",
    "    attrib = [\n",
    "        row['salesforce'],\n",
    "        row['sql'],\n",
    "        row['python'],\n",
    "        row['sales_operations'],\n",
    "        row['bus_operations'],\n",
    "        row['rev_operations']\n",
    "    ]\n",
    "    for at in list(attrib):\n",
    "        if at == True:\n",
    "            score += 1\n",
    "    try:\n",
    "        if row['company_rating'] >= 4:\n",
    "            score += 1\n",
    "        elif row['company_rating'] >= 3:\n",
    "            score += 0.5\n",
    "    except: pass\n",
    "    return score\n",
    "\n",
    "final_target_listings['score'] = final_target_listings['id_uncleaned'].apply(job_score)\n",
    "final_target_listings = final_target_listings.sort_values('score', ascending = False)"
   ]
  },
  {
   "cell_type": "markdown",
   "metadata": {},
   "source": [
    "### Exclude already saved jobs"
   ]
  },
  {
   "cell_type": "code",
   "execution_count": 295,
   "metadata": {},
   "outputs": [
    {
     "name": "stdout",
     "output_type": "stream",
     "text": [
      "final_targets 203\n"
     ]
    }
   ],
   "source": [
    "saved_jobs = pd.read_excel('/Users/bgetman/Dropbox/Python/housing_prices/listings/saved_listings.xlsx')\n",
    "\n",
    "saved_ids = saved_jobs['Unnamed: 1']\n",
    "\n",
    "saved_ids\n",
    "\n",
    "final_target_listings = final_target_listings[~final_target_listings['id_uncleaned'].isin(saved_ids)]\n",
    "\n",
    "print('final_targets',len(final_target_listings))"
   ]
  },
  {
   "cell_type": "markdown",
   "metadata": {},
   "source": [
    "### Save target file"
   ]
  },
  {
   "cell_type": "code",
   "execution_count": 296,
   "metadata": {},
   "outputs": [],
   "source": [
    "file = os.getcwd() + '/listings/target_listings_{}.csv'.format(str(today)[:10])\n",
    "\n",
    "final_target_listings.to_csv(file)\n",
    "\n"
   ]
  },
  {
   "cell_type": "code",
   "execution_count": 297,
   "metadata": {},
   "outputs": [],
   "source": [
    "#boston_listings, boston_dupes = town_results('boston')"
   ]
  }
 ],
 "metadata": {
  "kernelspec": {
   "display_name": "Python 3",
   "language": "python",
   "name": "python3"
  },
  "language_info": {
   "codemirror_mode": {
    "name": "ipython",
    "version": 3
   },
   "file_extension": ".py",
   "mimetype": "text/x-python",
   "name": "python",
   "nbconvert_exporter": "python",
   "pygments_lexer": "ipython3",
   "version": "3.7.3"
  }
 },
 "nbformat": 4,
 "nbformat_minor": 4
}
