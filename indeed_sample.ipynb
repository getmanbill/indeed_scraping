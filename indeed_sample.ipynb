{
 "cells": [
  {
   "cell_type": "code",
   "execution_count": 6,
   "metadata": {},
   "outputs": [
    {
     "data": {
      "text/plain": [
       "Timestamp('2020-04-08 10:43:15.851581')"
      ]
     },
     "execution_count": 6,
     "metadata": {},
     "output_type": "execute_result"
    }
   ],
   "source": [
    "import requests\n",
    "from bs4 import BeautifulSoup\n",
    "import pandas as pd\n",
    "import numpy as np\n",
    "import ipywidgets as widgets\n",
    "from IPython.display import display\n",
    "import datetime as dt\n",
    "start_time = dt.datetime.now()\n",
    "\n",
    "# Create the Timestamp object \n",
    "ts = pd.Timestamp(year = 2011,  month = 11, day = 21, hour = 10, second = 49, tz = 'US/Central')  \n",
    "today = ts.today()\n",
    "today"
   ]
  },
  {
   "cell_type": "code",
   "execution_count": 2,
   "metadata": {},
   "outputs": [],
   "source": [
    "def job_listings(town, start, df, dupes):\n",
    "    new_url = 'https://www.indeed.com/jobs?l={},+MA&radius=0&sort=date&sr=directhire&start={}'.format(town,start)\n",
    "    today = pd.to_datetime('today')\n",
    "    dupes = dupes\n",
    "    new_start = start\n",
    "    page = requests.get(new_url)\n",
    "    html = BeautifulSoup(page.text, 'html.parser')\n",
    "    html.find('td', attrs={'id': 'resultsCol'})\n",
    "    html.find('div',attrs={'class','jobsearch-SerpJobCard'})\n",
    "    results = html.find_all('div',attrs={'class','jobsearch-SerpJobCard'})\n",
    "    \n",
    "    job_already = 0\n",
    "    new_jobs = 0\n",
    "    \n",
    "    for item in results:\n",
    "        title = str(item.find('a',attrs={'class','jobtitle'}).contents)[4:-2]\n",
    "        job_id = item['id']\n",
    "        if job_id in df.index:\n",
    "            job_already += 1\n",
    "            if job_id not in dupes:\n",
    "                dupes.append(job_id)\n",
    "        else:\n",
    "            new_jobs +=1\n",
    "            try:\n",
    "                company = str(item.find('span',attrs={'class','company'}).a.contents)[4:-2]\n",
    "                company_rating = float(item.find('span',attrs={'class','ratingsContent'}).contents[0].strip())\n",
    "                company_link = item.find('span',attrs={'class','company'}).a['href']\n",
    "            except:\n",
    "                try:\n",
    "                    company = str(item.find('span',attrs={'class','company'}).contents)[4:-2]\n",
    "                except:\n",
    "                    company = None\n",
    "                company_rating = None\n",
    "                company_link = None\n",
    "            df.loc[job_id,['title','company','company_link','company_rating', 'town', 'orig_date']] = [title, company,company_link,company_rating, town, today]\n",
    "    if job_already == len(results):\n",
    "        new_start += job_already\n",
    "        return new_start, df, dupes\n",
    "    else:\n",
    "        new_start = len(df)\n",
    "        return new_start, df, dupes"
   ]
  },
  {
   "cell_type": "code",
   "execution_count": 3,
   "metadata": {},
   "outputs": [],
   "source": [
    "def town_results(town):\n",
    "    df = pd.DataFrame(columns=['title','company','company_link','company_rating','town','orig_date'])\n",
    "    dupes = []\n",
    "    url = \"https://www.indeed.com/jobs?as_and=&as_phr=&as_any=&as_not=&as_ttl=&as_cmp=&jt=all&st=&sr=directhire&as_src=&salary=&radius=0&l={}%2C+MA&fromage=any&limit=10&sort=date&psf=advsrch&from=advancedsearch\".format(town)\n",
    "    page = requests.get(url)\n",
    "    \n",
    "    html = BeautifulSoup(page.text, 'html.parser')\n",
    "    html.find('td', attrs={'id': 'resultsCol'})\n",
    "    html.find('div',attrs={'class','jobsearch-SerpJobCard'})\n",
    "    page_results = html.find_all('div',attrs={'class','jobsearch-SerpJobCard'})\n",
    "    num = 0\n",
    "    \n",
    "    for item in page_results:\n",
    "        title = str(item.find('a',attrs={'class','jobtitle'}).contents)[4:-2]\n",
    "        job_id = item['id']\n",
    "        try:\n",
    "            company = str(item.find('span',attrs={'class','company'}).a.contents)[4:-2]\n",
    "            company_rating = float(item.find('span',attrs={'class','ratingsContent'}).contents[0].strip())\n",
    "            company_link = item.find('span',attrs={'class','company'}).a['href']\n",
    "        except:\n",
    "            try:\n",
    "                company = str(item.find('span',attrs={'class','company'}).contents)[4:-2]\n",
    "            except:\n",
    "                company = None\n",
    "            company_rating = None\n",
    "            company_link = None\n",
    "        df.loc[job_id,['title','company','company_link','company_rating','town','orig_date']] = [title, company,company_link,company_rating, town, today]\n",
    "        num += 1\n",
    "        \n",
    "    num_results = str(html.find('div', attrs={'id': 'searchCountPages'}).contents)\n",
    "    results = int(num_results[num_results.find('of ')+3:num_results.find(' jobs')].replace(',',''))\n",
    "    \n",
    "    f = widgets.IntProgress(\n",
    "        value=len(df),\n",
    "        min=0,\n",
    "        max=results,\n",
    "        description='{}:'.format(town),\n",
    "        bar_style='info',\n",
    "        orientation='horizontal'\n",
    "    )\n",
    "\n",
    "    int_prog = widgets.HTML(\n",
    "        value=\"{} out of {}\".format(len(df),results)\n",
    "    )\n",
    "    \n",
    "    display(f)\n",
    "    display(int_prog)\n",
    "    \n",
    "    start = len(df)\n",
    "    while start < results:\n",
    "        start, df, dupes = job_listings(town, start, df, dupes)\n",
    "        f.value = len(df)\n",
    "        int_prog.value = \"{} out of {}\".format(len(df),results)\n",
    "    return df, dupes\n",
    "\n"
   ]
  },
  {
   "cell_type": "code",
   "execution_count": 4,
   "metadata": {},
   "outputs": [
    {
     "ename": "NameError",
     "evalue": "name 'today' is not defined",
     "output_type": "error",
     "traceback": [
      "\u001b[0;31m---------------------------------------------------------------------------\u001b[0m",
      "\u001b[0;31mNameError\u001b[0m                                 Traceback (most recent call last)",
      "\u001b[0;32m<ipython-input-4-0dc04f5ae491>\u001b[0m in \u001b[0;36m<module>\u001b[0;34m\u001b[0m\n\u001b[0;32m----> 1\u001b[0;31m \u001b[0mframingham_listings\u001b[0m\u001b[0;34m,\u001b[0m \u001b[0mframingham_dupes\u001b[0m \u001b[0;34m=\u001b[0m \u001b[0mtown_results\u001b[0m\u001b[0;34m(\u001b[0m\u001b[0;34m'Framingham'\u001b[0m\u001b[0;34m)\u001b[0m\u001b[0;34m\u001b[0m\u001b[0;34m\u001b[0m\u001b[0m\n\u001b[0m\u001b[1;32m      2\u001b[0m \u001b[0mnatick_listings\u001b[0m\u001b[0;34m,\u001b[0m \u001b[0mnatick_dupes\u001b[0m \u001b[0;34m=\u001b[0m \u001b[0mtown_results\u001b[0m\u001b[0;34m(\u001b[0m\u001b[0;34m'Natick'\u001b[0m\u001b[0;34m)\u001b[0m\u001b[0;34m\u001b[0m\u001b[0;34m\u001b[0m\u001b[0m\n",
      "\u001b[0;32m<ipython-input-3-8bfb2d2f67f6>\u001b[0m in \u001b[0;36mtown_results\u001b[0;34m(town)\u001b[0m\n\u001b[1;32m     25\u001b[0m             \u001b[0mcompany_rating\u001b[0m \u001b[0;34m=\u001b[0m \u001b[0;32mNone\u001b[0m\u001b[0;34m\u001b[0m\u001b[0;34m\u001b[0m\u001b[0m\n\u001b[1;32m     26\u001b[0m             \u001b[0mcompany_link\u001b[0m \u001b[0;34m=\u001b[0m \u001b[0;32mNone\u001b[0m\u001b[0;34m\u001b[0m\u001b[0;34m\u001b[0m\u001b[0m\n\u001b[0;32m---> 27\u001b[0;31m         \u001b[0mdf\u001b[0m\u001b[0;34m.\u001b[0m\u001b[0mloc\u001b[0m\u001b[0;34m[\u001b[0m\u001b[0mjob_id\u001b[0m\u001b[0;34m,\u001b[0m\u001b[0;34m[\u001b[0m\u001b[0;34m'title'\u001b[0m\u001b[0;34m,\u001b[0m\u001b[0;34m'company'\u001b[0m\u001b[0;34m,\u001b[0m\u001b[0;34m'company_link'\u001b[0m\u001b[0;34m,\u001b[0m\u001b[0;34m'company_rating'\u001b[0m\u001b[0;34m,\u001b[0m\u001b[0;34m'town'\u001b[0m\u001b[0;34m,\u001b[0m\u001b[0;34m'orig_date'\u001b[0m\u001b[0;34m]\u001b[0m\u001b[0;34m]\u001b[0m \u001b[0;34m=\u001b[0m \u001b[0;34m[\u001b[0m\u001b[0mtitle\u001b[0m\u001b[0;34m,\u001b[0m \u001b[0mcompany\u001b[0m\u001b[0;34m,\u001b[0m\u001b[0mcompany_link\u001b[0m\u001b[0;34m,\u001b[0m\u001b[0mcompany_rating\u001b[0m\u001b[0;34m,\u001b[0m \u001b[0mtown\u001b[0m\u001b[0;34m,\u001b[0m \u001b[0mtoday\u001b[0m\u001b[0;34m]\u001b[0m\u001b[0;34m\u001b[0m\u001b[0;34m\u001b[0m\u001b[0m\n\u001b[0m\u001b[1;32m     28\u001b[0m         \u001b[0mnum\u001b[0m \u001b[0;34m+=\u001b[0m \u001b[0;36m1\u001b[0m\u001b[0;34m\u001b[0m\u001b[0;34m\u001b[0m\u001b[0m\n\u001b[1;32m     29\u001b[0m \u001b[0;34m\u001b[0m\u001b[0m\n",
      "\u001b[0;31mNameError\u001b[0m: name 'today' is not defined"
     ]
    }
   ],
   "source": [
    "framingham_listings, framingham_dupes = town_results('Framingham')\n",
    "natick_listings, natick_dupes = town_results('Natick')"
   ]
  },
  {
   "cell_type": "code",
   "execution_count": null,
   "metadata": {},
   "outputs": [],
   "source": [
    "wayland_listings, wayland_dupes = town_results('wayland')\n",
    "marlborough_listings, marlborough_dupes = town_results('marlborough')"
   ]
  },
  {
   "cell_type": "code",
   "execution_count": null,
   "metadata": {},
   "outputs": [],
   "source": [
    "framingham_listings.to_csv('/Users/williamgetman/Dropbox/Python/housing_prices/listings/framingham/framingham.csv')\n",
    "#framingham_dupes.to_csv('/Users/williamgetman/Dropbox/Python/housing_prices/listings/framingham/framingham_dupes.csv')\n",
    "\n",
    "natick_listings.to_csv('/Users/williamgetman/Dropbox/Python/housing_prices/listings/natick/natick.csv')\n",
    "#natick_dupes.to_csv('/Users/williamgetman/Dropbox/Python/housing_prices/listings/natick/natick_dupes.csv')\n",
    "\n",
    "wayland_listings.to_csv('/Users/williamgetman/Dropbox/Python/housing_prices/listings/wayland/wayland.csv')\n",
    "#wayland_dupes.to_csv('/Users/williamgetman/Dropbox/Python/housing_prices/listings/wayland/wayland_dupes.csv')\n",
    "\n",
    "marlborough_listings.to_csv('/Users/williamgetman/Dropbox/Python/housing_prices/listings/marlborough/marlborough.csv')\n",
    "#marlborough_dupes.to_csv('/Users/williamgetman/Dropbox/Python/housing_prices/listings/marlborough/marlborough_dupes.csv')"
   ]
  }
 ],
 "metadata": {
  "kernelspec": {
   "display_name": "Python 3",
   "language": "python",
   "name": "python3"
  },
  "language_info": {
   "codemirror_mode": {
    "name": "ipython",
    "version": 3
   },
   "file_extension": ".py",
   "mimetype": "text/x-python",
   "name": "python",
   "nbconvert_exporter": "python",
   "pygments_lexer": "ipython3",
   "version": "3.7.3"
  }
 },
 "nbformat": 4,
 "nbformat_minor": 4
}
